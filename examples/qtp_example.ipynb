{
 "cells": [
  {
   "cell_type": "markdown",
   "metadata": {},
   "source": [
    "# Investigation of QTP for test of physical system\n",
    "This is a closed loop simulation example of how we wish to control the physical __quadruple tank process (QTP)__. What we wish is to investigate is which constraints may be desirable to add to the controller when we test on the real system.\n",
    "\n",
    "The test were run after having measured the split-ratio of the system as described in the ___mpc_opc.ipynb___ notebook such that I had a chance to simulate the system in a setting which was close to what was actually gonna happen.\n",
    "\n",
    "## Choosing constraints\n",
    "Firstly, we see that the closed and open loop simulations ended up being quite close to each other (see the ___mpc_opc.ipynb___) which proved that the simulation tool was actually quite effective in describing the real scenario which was later run over then same period of time. The closed loop simulation thus is quite a powerful tool, as it is executed within seconds and not minutes, such that we may investigate a lot of different setting and tune parameters well for use when testing on the physical system.\n",
    "\n",
    "__Note:__ I did not tune parameters much here, not is any systematic way at least. This was only an attempt to get a picture of how the testing may run and which constriants might work well in the controller.\n",
    "\n",
    "What I found was that the offset-free controller is a must to have, as there is obvious offset in the control, as shown in the first closed loop simulation below. The controller without any input regularisation or rate-of-change constraints worked very well, but for real systems, it is often not desirable to allow for arbitrarily large changes in the input in each iteration, as it wears down the equipment.\n",
    "\n",
    "The soft output constraints did not seem to make much of a difference, and the system it-self is equipped with a mechanism which switches off the input-flow in the event that the tanks are over-filling.\n",
    "\n",
    "## Conclusion\n",
    "I chose to go with the offset-free controller with input regularisation and input rate-of-change constraints, as this seemed best suited for this particular task as discussed in the previous section."
   ]
  },
  {
   "cell_type": "code",
   "execution_count": 1,
   "metadata": {},
   "outputs": [],
   "source": [
    "##########################################################################################\n",
    "######################################### Imports ########################################\n",
    "##########################################################################################\n",
    "## Import closed loop simulation methods\n",
    "from closed_loop_simulation import *\n",
    "\n",
    "## Import test problem\n",
    "## ...\n",
    "## This class has defined; State, measurement and output methods, a simulation_step \n",
    "## method which solves the state differential equation defining the model, as well \n",
    "## as a continuous linearisation method returning system matrices for the continuous \n",
    "## linear system.\n",
    "#from quadruple_tank_process import qtp\n",
    "\n",
    "\n",
    "##########################################################################################\n",
    "###################################### Initialistaion ####################################\n",
    "##########################################################################################\n",
    "## Initial values for test process in MPC\n",
    "#x0 = matrix( [10000.0, 10000.0, 10000.0, 10000.0] ) # Initial state\n",
    "#u0 = matrix( [250.0, 250.0] )                       # Initial input\n",
    "\n",
    "## Initialisation of MPC related parameters\n",
    "#T_s         = 16                                    # Discretisation step\n",
    "#n           = 30                                    # Prediction step for MPC\n",
    "#r           = matrix( [ 25, 10 ] )                  # Desired output level\n",
    "#r_c         = matrix( [ 20, 20  ] )                 # Increase in set-point\n",
    "#disturbance = matrix( [ 100.0, 50.0 ] )             # Disturbance, 2/3rds through\n",
    "#u_min       = matrix( [ 1e-2, 1e-2 ] )              # Minimum allowed input\n",
    "#u_max       = matrix( [ 500.0, 500.0 ] )            # Maximum allowed input\n",
    "\n",
    "## Off-set free parameters\n",
    "#Q_d         = 1e+0\n",
    "\n",
    "## Input constraints\n",
    "#du_max      = 20                                    # Maximum allowed input change\n",
    "\n",
    "## Soft output constraints\n",
    "#soft_bounds = matrix( [ 1.0, 1.0 ] )                # Soft output bounds\n",
    "\n",
    "horison     = 150"
   ]
  },
  {
   "cell_type": "code",
   "execution_count": 2,
   "metadata": {
    "scrolled": false
   },
   "outputs": [
    {
     "name": "stdout",
     "output_type": "stream",
     "text": [
      "dare converged to tolerance of 1e-8. Used 33 iterations.\n"
     ]
    },
    {
     "ename": "AttributeError",
     "evalue": "'list' object has no attribute 'get_label'",
     "output_type": "error",
     "traceback": [
      "\u001b[0;31m---------------------------------------------------------------------------\u001b[0m",
      "\u001b[0;31mAttributeError\u001b[0m                            Traceback (most recent call last)",
      "\u001b[0;32m<ipython-input-2-3c2168866023>\u001b[0m in \u001b[0;36m<module>\u001b[0;34m()\u001b[0m\n\u001b[1;32m     10\u001b[0m \u001b[0;34m\u001b[0m\u001b[0m\n\u001b[1;32m     11\u001b[0m \u001b[0;31m## Call plot method - Still hard-coded\u001b[0m\u001b[0;34m\u001b[0m\u001b[0;34m\u001b[0m\u001b[0m\n\u001b[0;32m---> 12\u001b[0;31m \u001b[0mclosed_loop_plot\u001b[0m\u001b[0;34m(\u001b[0m \u001b[0mT_plot\u001b[0m\u001b[0;34m,\u001b[0m \u001b[0mY_plot\u001b[0m\u001b[0;34m,\u001b[0m \u001b[0mR_plot\u001b[0m\u001b[0;34m,\u001b[0m \u001b[0mU_plot\u001b[0m\u001b[0;34m,\u001b[0m \u001b[0mplot_info\u001b[0m \u001b[0;34m)\u001b[0m\u001b[0;34m;\u001b[0m\u001b[0;34m\u001b[0m\u001b[0m\n\u001b[0m",
      "\u001b[0;32m~/Documents/lmpc/examples/closed_loop_simulation.py\u001b[0m in \u001b[0;36mclosed_loop_plot\u001b[0;34m(T_plot, Y_plot, R_plot, U_plot, plot_info)\u001b[0m\n\u001b[1;32m    398\u001b[0m         \u001b[0mpl\u001b[0m\u001b[0;34m[\u001b[0m\u001b[0;36m1\u001b[0m\u001b[0;34m]\u001b[0m \u001b[0;34m=\u001b[0m \u001b[0max1\u001b[0m\u001b[0;34m[\u001b[0m\u001b[0mj\u001b[0m\u001b[0;34m,\u001b[0m\u001b[0mi\u001b[0m\u001b[0;34m]\u001b[0m\u001b[0;34m.\u001b[0m\u001b[0mstep\u001b[0m\u001b[0;34m(\u001b[0m \u001b[0mT_plot\u001b[0m\u001b[0;34m,\u001b[0m \u001b[0mtmp\u001b[0m\u001b[0;34m,\u001b[0m \u001b[0mcolor\u001b[0m\u001b[0;34m=\u001b[0m\u001b[0;34m'red'\u001b[0m\u001b[0;34m,\u001b[0m \u001b[0mlinestyle\u001b[0m\u001b[0;34m=\u001b[0m\u001b[0;34m'--'\u001b[0m\u001b[0;34m,\u001b[0m \u001b[0mlabel\u001b[0m\u001b[0;34m=\u001b[0m\u001b[0;34m'Desired level'\u001b[0m  \u001b[0;34m)\u001b[0m\u001b[0;34m\u001b[0m\u001b[0m\n\u001b[1;32m    399\u001b[0m         \u001b[0max1\u001b[0m\u001b[0;34m[\u001b[0m\u001b[0mj\u001b[0m\u001b[0;34m,\u001b[0m\u001b[0mi\u001b[0m\u001b[0;34m]\u001b[0m\u001b[0;34m.\u001b[0m\u001b[0mset_ylim\u001b[0m\u001b[0;34m(\u001b[0m\u001b[0;34m-\u001b[0m\u001b[0;36m1\u001b[0m\u001b[0;34m,\u001b[0m \u001b[0;36m48.5\u001b[0m\u001b[0;34m)\u001b[0m\u001b[0;34m\u001b[0m\u001b[0m\n\u001b[0;32m--> 400\u001b[0;31m         \u001b[0max1\u001b[0m\u001b[0;34m[\u001b[0m\u001b[0mj\u001b[0m\u001b[0;34m,\u001b[0m\u001b[0mi\u001b[0m\u001b[0;34m]\u001b[0m\u001b[0;34m.\u001b[0m\u001b[0mlegend\u001b[0m\u001b[0;34m(\u001b[0m \u001b[0mhandles\u001b[0m\u001b[0;34m=\u001b[0m\u001b[0mpl\u001b[0m\u001b[0;34m,\u001b[0m \u001b[0mfontsize\u001b[0m\u001b[0;34m=\u001b[0m\u001b[0;36m15\u001b[0m \u001b[0;34m)\u001b[0m\u001b[0;34m\u001b[0m\u001b[0m\n\u001b[0m\u001b[1;32m    401\u001b[0m         \u001b[0max1\u001b[0m\u001b[0;34m[\u001b[0m\u001b[0mj\u001b[0m\u001b[0;34m,\u001b[0m\u001b[0mi\u001b[0m\u001b[0;34m]\u001b[0m\u001b[0;34m.\u001b[0m\u001b[0mlegend\u001b[0m\u001b[0;34m(\u001b[0m \u001b[0mbbox_to_anchor\u001b[0m\u001b[0;34m=\u001b[0m\u001b[0;34m(\u001b[0m\u001b[0;36m1.05\u001b[0m\u001b[0;34m,\u001b[0m \u001b[0;36m1\u001b[0m\u001b[0;34m)\u001b[0m\u001b[0;34m,\u001b[0m \u001b[0mloc\u001b[0m\u001b[0;34m=\u001b[0m\u001b[0;36m2\u001b[0m\u001b[0;34m,\u001b[0m \u001b[0mborderaxespad\u001b[0m\u001b[0;34m=\u001b[0m\u001b[0;36m0.\u001b[0m\u001b[0;34m,\u001b[0m \u001b[0mfontsize\u001b[0m\u001b[0;34m=\u001b[0m\u001b[0;36m15\u001b[0m \u001b[0;34m)\u001b[0m \u001b[0;31m# Place legend outside plot\u001b[0m\u001b[0;34m\u001b[0m\u001b[0m\n\u001b[1;32m    402\u001b[0m         \u001b[0max1\u001b[0m\u001b[0;34m[\u001b[0m\u001b[0mj\u001b[0m\u001b[0;34m,\u001b[0m\u001b[0mi\u001b[0m\u001b[0;34m]\u001b[0m\u001b[0;34m.\u001b[0m\u001b[0mset_ylabel\u001b[0m\u001b[0;34m(\u001b[0m\u001b[0mname\u001b[0m\u001b[0;34m)\u001b[0m\u001b[0;34m\u001b[0m\u001b[0m\n",
      "\u001b[0;32m/anaconda3/lib/python3.6/site-packages/matplotlib/axes/_axes.py\u001b[0m in \u001b[0;36mlegend\u001b[0;34m(self, *args, **kwargs)\u001b[0m\n\u001b[1;32m    495\u001b[0m                 \u001b[0;34m[\u001b[0m\u001b[0mself\u001b[0m\u001b[0;34m]\u001b[0m\u001b[0;34m,\u001b[0m\u001b[0;34m\u001b[0m\u001b[0m\n\u001b[1;32m    496\u001b[0m                 \u001b[0;34m*\u001b[0m\u001b[0margs\u001b[0m\u001b[0;34m,\u001b[0m\u001b[0;34m\u001b[0m\u001b[0m\n\u001b[0;32m--> 497\u001b[0;31m                 **kwargs)\n\u001b[0m\u001b[1;32m    498\u001b[0m         \u001b[0;32mif\u001b[0m \u001b[0mlen\u001b[0m\u001b[0;34m(\u001b[0m\u001b[0mextra_args\u001b[0m\u001b[0;34m)\u001b[0m\u001b[0;34m:\u001b[0m\u001b[0;34m\u001b[0m\u001b[0m\n\u001b[1;32m    499\u001b[0m             \u001b[0;32mraise\u001b[0m \u001b[0mTypeError\u001b[0m\u001b[0;34m(\u001b[0m\u001b[0;34m'legend only accepts two non-keyword arguments'\u001b[0m\u001b[0;34m)\u001b[0m\u001b[0;34m\u001b[0m\u001b[0m\n",
      "\u001b[0;32m/anaconda3/lib/python3.6/site-packages/matplotlib/legend.py\u001b[0m in \u001b[0;36m_parse_legend_args\u001b[0;34m(axs, *args, **kwargs)\u001b[0m\n\u001b[1;32m   1364\u001b[0m \u001b[0;34m\u001b[0m\u001b[0m\n\u001b[1;32m   1365\u001b[0m     \u001b[0;32melif\u001b[0m \u001b[0mhandles\u001b[0m \u001b[0;32mis\u001b[0m \u001b[0;32mnot\u001b[0m \u001b[0;32mNone\u001b[0m \u001b[0;32mand\u001b[0m \u001b[0mlabels\u001b[0m \u001b[0;32mis\u001b[0m \u001b[0;32mNone\u001b[0m\u001b[0;34m:\u001b[0m\u001b[0;34m\u001b[0m\u001b[0m\n\u001b[0;32m-> 1366\u001b[0;31m         \u001b[0mlabels\u001b[0m \u001b[0;34m=\u001b[0m \u001b[0;34m[\u001b[0m\u001b[0mhandle\u001b[0m\u001b[0;34m.\u001b[0m\u001b[0mget_label\u001b[0m\u001b[0;34m(\u001b[0m\u001b[0;34m)\u001b[0m \u001b[0;32mfor\u001b[0m \u001b[0mhandle\u001b[0m \u001b[0;32min\u001b[0m \u001b[0mhandles\u001b[0m\u001b[0;34m]\u001b[0m\u001b[0;34m\u001b[0m\u001b[0m\n\u001b[0m\u001b[1;32m   1367\u001b[0m \u001b[0;34m\u001b[0m\u001b[0m\n\u001b[1;32m   1368\u001b[0m     \u001b[0;32melif\u001b[0m \u001b[0mlabels\u001b[0m \u001b[0;32mis\u001b[0m \u001b[0;32mnot\u001b[0m \u001b[0;32mNone\u001b[0m \u001b[0;32mand\u001b[0m \u001b[0mhandles\u001b[0m \u001b[0;32mis\u001b[0m \u001b[0;32mNone\u001b[0m\u001b[0;34m:\u001b[0m\u001b[0;34m\u001b[0m\u001b[0m\n",
      "\u001b[0;32m/anaconda3/lib/python3.6/site-packages/matplotlib/legend.py\u001b[0m in \u001b[0;36m<listcomp>\u001b[0;34m(.0)\u001b[0m\n\u001b[1;32m   1364\u001b[0m \u001b[0;34m\u001b[0m\u001b[0m\n\u001b[1;32m   1365\u001b[0m     \u001b[0;32melif\u001b[0m \u001b[0mhandles\u001b[0m \u001b[0;32mis\u001b[0m \u001b[0;32mnot\u001b[0m \u001b[0;32mNone\u001b[0m \u001b[0;32mand\u001b[0m \u001b[0mlabels\u001b[0m \u001b[0;32mis\u001b[0m \u001b[0;32mNone\u001b[0m\u001b[0;34m:\u001b[0m\u001b[0;34m\u001b[0m\u001b[0m\n\u001b[0;32m-> 1366\u001b[0;31m         \u001b[0mlabels\u001b[0m \u001b[0;34m=\u001b[0m \u001b[0;34m[\u001b[0m\u001b[0mhandle\u001b[0m\u001b[0;34m.\u001b[0m\u001b[0mget_label\u001b[0m\u001b[0;34m(\u001b[0m\u001b[0;34m)\u001b[0m \u001b[0;32mfor\u001b[0m \u001b[0mhandle\u001b[0m \u001b[0;32min\u001b[0m \u001b[0mhandles\u001b[0m\u001b[0;34m]\u001b[0m\u001b[0;34m\u001b[0m\u001b[0m\n\u001b[0m\u001b[1;32m   1367\u001b[0m \u001b[0;34m\u001b[0m\u001b[0m\n\u001b[1;32m   1368\u001b[0m     \u001b[0;32melif\u001b[0m \u001b[0mlabels\u001b[0m \u001b[0;32mis\u001b[0m \u001b[0;32mnot\u001b[0m \u001b[0;32mNone\u001b[0m \u001b[0;32mand\u001b[0m \u001b[0mhandles\u001b[0m \u001b[0;32mis\u001b[0m \u001b[0;32mNone\u001b[0m\u001b[0;34m:\u001b[0m\u001b[0;34m\u001b[0m\u001b[0m\n",
      "\u001b[0;31mAttributeError\u001b[0m: 'list' object has no attribute 'get_label'"
     ]
    },
    {
     "data": {
      "image/png": "[encoded data removed]",
      "text/plain": [
       "<matplotlib.figure.Figure at 0x109669ac8>"
      ]
     },
     "metadata": {},
     "output_type": "display_data"
    }
   ],
   "source": [
    "##########################################################################################\n",
    "########################## Closed loop simulation of controller ##########################\n",
    "##########################################################################################\n",
    "## Define constraints\n",
    "off_set     = 'off'\n",
    "constraints = None\n",
    "\n",
    "## Call closed loop simulation of MPC\n",
    "T_plot, Y_plot, R_plot, U_plot, plot_info = closed_loop_simulation( \\\n",
    "    horison=horison, off_set=off_set, constraints=constraints )\n",
    "\n",
    "## Call plot method - Still hard-coded\n",
    "closed_loop_plot( T_plot, Y_plot, R_plot, U_plot, plot_info );"
   ]
  },
  {
   "cell_type": "code",
   "execution_count": null,
   "metadata": {},
   "outputs": [],
   "source": [
    "##########################################################################################\n",
    "########################## Closed loop simulation of controller ##########################\n",
    "##########################################################################################\n",
    "## Define constraints\n",
    "off_set     = 'on'\n",
    "constraints = None\n",
    "\n",
    "## Call closed loop simulation of MPC\n",
    "T_plot, Y_plot, R_plot, U_plot, plot_info = closed_loop_simulation( \\\n",
    "    horison=horison, off_set=off_set, constraints=constraints )\n",
    "\n",
    "## Call plot method - Still hard-coded\n",
    "closed_loop_plot( T_plot, Y_plot, R_plot, U_plot, plot_info );"
   ]
  },
  {
   "cell_type": "code",
   "execution_count": null,
   "metadata": {},
   "outputs": [],
   "source": [
    "##########################################################################################\n",
    "########################## Closed loop simulation of controller ##########################\n",
    "##########################################################################################\n",
    "## Define constraints\n",
    "off_set     = 'on'\n",
    "constraints = 'input'\n",
    "\n",
    "## Call closed loop simulation of MPC\n",
    "T_plot, Y_plot, R_plot, U_plot, plot_info = closed_loop_simulation( \\\n",
    "    horison=horison, off_set=off_set, constraints=constraints )\n",
    "\n",
    "## Call plot method - Still hard-coded\n",
    "closed_loop_plot( T_plot, Y_plot, R_plot, U_plot, plot_info );"
   ]
  },
  {
   "cell_type": "code",
   "execution_count": null,
   "metadata": {},
   "outputs": [],
   "source": [
    "##########################################################################################\n",
    "########################## Closed loop simulation of controller ##########################\n",
    "##########################################################################################\n",
    "## Define constraints\n",
    "off_set     = 'on'\n",
    "constraints = 'soft_output'\n",
    "\n",
    "## Call closed loop simulation of MPC\n",
    "T_plot, Y_plot, R_plot, U_plot, plot_info = closed_loop_simulation( \\\n",
    "    horison=horison, off_set=off_set, constraints=constraints )\n",
    "\n",
    "## Call plot method - Still hard-coded\n",
    "closed_loop_plot( T_plot, Y_plot, R_plot, U_plot, plot_info );"
   ]
  },
  {
   "cell_type": "code",
   "execution_count": null,
   "metadata": {},
   "outputs": [],
   "source": []
  }
 ],
 "metadata": {
  "kernelspec": {
   "display_name": "Python 3",
   "language": "python",
   "name": "python3"
  },
  "language_info": {
   "codemirror_mode": {
    "name": "ipython",
    "version": 3
   },
   "file_extension": ".py",
   "mimetype": "text/x-python",
   "name": "python",
   "nbconvert_exporter": "python",
   "pygments_lexer": "ipython3",
   "version": "3.6.4"
  }
 },
 "nbformat": 4,
 "nbformat_minor": 2
}
